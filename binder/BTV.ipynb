{
 "cells": [
  {
   "cell_type": "code",
   "execution_count": null,
   "id": "7751f679",
   "metadata": {},
   "outputs": [],
   "source": [
    "import warnings\n",
    "import pandas as pd\n",
    "import uproot\n",
    "import awkward as ak\n",
    "import vector\n",
    "vector.register_awkward()\n",
    "from matplotlib import pyplot as plt\n",
    "import mplhep as hep\n",
    "hep.style.use(\"CMS\")\n",
    "import math\n",
    "import itertools\n",
    "import os\n",
    "from typing import Dict, List, Tuple\n",
    "from numpy.typing import ArrayLike\n",
    "import numpy as np\n",
    "import correctionlib\n",
    "import awkward as ak\n",
    "import fastjet\n",
    "import coffea\n",
    "from coffea.nanoevents.methods import vector\n",
    "from coffea import nanoevents\n",
    "from coffea import processor\n",
    "from coffea.nanoevents.methods import candidate\n",
    "from coffea.analysis_tools import Weights, PackedSelection\n",
    "from hist import Hist\n",
    "ak.behavior.update(vector.behavior)\n",
    "\n",
    "warnings.filterwarnings(\"ignore\", message=\"Found duplicate branch \")\n",
    "warnings.filterwarnings(\"ignore\", category=DeprecationWarning)\n",
    "warnings.filterwarnings(\"ignore\", message=\"Missing cross-reference index \")\n",
    "warnings.filterwarnings(\"ignore\", message=\"divide by zero encountered in log\")\n",
    "warnings.filterwarnings(\"ignore\", category=pd.errors.PerformanceWarning)\n",
    "np.seterr(invalid=\"ignore\")"
   ]
  },
  {
   "cell_type": "code",
   "execution_count": null,
   "id": "118e0554",
   "metadata": {},
   "outputs": [],
   "source": [
    "print(coffea.__version__, coffea.__file__)\n",
    "print(ak.__version__, ak.__file__)\n",
    "print(uproot.__version__, uproot.__file__)\n",
    "print(np.__version__, np.__file__)"
   ]
  },
  {
   "cell_type": "code",
   "execution_count": null,
   "id": "2dfa191b",
   "metadata": {},
   "outputs": [],
   "source": [
    "%load_ext autoreload\n",
    "%autoreload 2"
   ]
  },
  {
   "cell_type": "code",
   "execution_count": null,
   "id": "4a830193",
   "metadata": {},
   "outputs": [],
   "source": [
    "# load a hww root file into coffea-friendly NanoAOD structure\n",
    "import uproot\n",
    "f = uproot.open(f\"../rootfiles/TTbar/file1.root\")\n",
    "num = f['Events'].num_entries   ### checks number of events per file \n",
    "print(f'number of events per file is {num}')\n",
    "\n",
    "events = nanoevents.NanoEventsFactory.from_root(f, \"Events\").events();"
   ]
  },
  {
   "cell_type": "code",
   "execution_count": null,
   "id": "c3610db3",
   "metadata": {},
   "outputs": [],
   "source": [
    "def build_p4(cand):\n",
    "    return ak.zip(\n",
    "        {\n",
    "            \"pt\": cand.pt,\n",
    "            \"eta\": cand.eta,\n",
    "            \"phi\": cand.phi,\n",
    "            \"mass\": cand.mass,\n",
    "            \"charge\": cand.charge,\n",
    "        },\n",
    "        with_name=\"PtEtaPhiMCandidate\",\n",
    "        behavior=candidate.behavior,\n",
    "    )\n",
    "\n",
    "met = events.MET\n",
    "\n",
    "# lepton\n",
    "electrons = events[\"Electron\"][events[\"Electron\"].pt > 40]\n",
    "muons = events[\"Muon\"][events[\"Muon\"].pt > 30]\n",
    "leptons = ak.concatenate([electrons, muons], axis=1)\n",
    "leptons = leptons[ak.argsort(leptons.pt, ascending=False)]\n",
    "candidatelep = ak.firsts(leptons)\n",
    "candidatelep_p4 = build_p4(candidatelep)\n",
    "\n",
    "# fatjet\n",
    "fatjets = events[\"FatJet\"]\n",
    "good_fatjets = (fatjets.pt > 200) & (abs(fatjets.eta) < 2.5) & fatjets.isTight\n",
    "\n",
    "good_fatjets = fatjets[good_fatjets]  # select good fatjets\n",
    "good_fatjets = good_fatjets[ak.argsort(good_fatjets.pt, ascending=False)]  # sort them by pt\n",
    "\n",
    "NumFatjets = ak.num(good_fatjets)\n",
    "FirstFatjet = ak.firsts(good_fatjets[:, 0:1])\n",
    "SecondFatjet = ak.firsts(good_fatjets[:, 1:2])\n",
    "\n",
    "# candidatefj\n",
    "fj_idx_lep = ak.argmin(good_fatjets.delta_r(candidatelep_p4), axis=1, keepdims=True)\n",
    "candidatefj = ak.firsts(good_fatjets[fj_idx_lep])"
   ]
  },
  {
   "cell_type": "code",
   "execution_count": null,
   "id": "cc600f59",
   "metadata": {},
   "outputs": [],
   "source": [
    "import sys\n",
    "sys.path.append('../')\n",
    "\n",
    "from boostedhiggs.corrections import get_btag_weights\n",
    "\n",
    "jets = events.Jet\n",
    "\n",
    "jet_selector = (\n",
    "    (jets.pt > 30)\n",
    "    & (abs(jets.eta) < 5.0)\n",
    "    & jets.isTight\n",
    "    & ((jets.pt >= 50) | ((jets.pt < 50) & (jets.puId & 2) == 2))\n",
    ")\n",
    "\n",
    "bjet_selector = (jet_selector) & (jets.delta_r(candidatefj) > 0.8) & (abs(jets.eta) < 2.5)\n",
    "btga_dict = get_btag_weights(\"2017\", jets, bjet_selector, wp=\"T\", algo=\"deepJet\", systematics=True)\n",
    "btga_dict.keys()"
   ]
  },
  {
   "cell_type": "code",
   "execution_count": null,
   "id": "704c4358",
   "metadata": {},
   "outputs": [],
   "source": [
    "btga_dict[\"bcEff\"]"
   ]
  },
  {
   "cell_type": "code",
   "execution_count": null,
   "id": "a2573f4c",
   "metadata": {},
   "outputs": [],
   "source": [
    "btga_dict[\"lightEff\"]"
   ]
  },
  {
   "cell_type": "code",
   "execution_count": null,
   "id": "ef390729",
   "metadata": {},
   "outputs": [],
   "source": [
    "fig, ax = plt.subplots(figsize=(8,8))\n",
    "\n",
    "ax.hist(btga_dict[\"bcEff\"], histtype=\"step\", lw=2, label=\"tagging eff (i.e. b-quarks)\");\n",
    "ax.hist(btga_dict[\"lightEff\"], histtype=\"step\", lw=2, label=\"mistagging eff (i.e. light-quarks)\");\n",
    "ax.legend(title=\"btagging\")\n",
    "ax.set_ylabel(\"TTbar events\")\n",
    "ax.set_xlabel(\"Efficiency\")"
   ]
  },
  {
   "cell_type": "markdown",
   "id": "69a9fc34",
   "metadata": {},
   "source": [
    "# Lookup"
   ]
  },
  {
   "cell_type": "code",
   "execution_count": null,
   "id": "ff0ea285",
   "metadata": {},
   "outputs": [],
   "source": [
    "algo = \"deepJet\"\n",
    "wp = \"T\"\n",
    "ul_year = \"2017_UL\"\n",
    "\n",
    "import importlib\n",
    "from coffea import util as cutil\n",
    "\n",
    "with importlib.resources.path(\"boostedhiggs.data\", f\"btageff_{algo}_{wp}_{ul_year}.coffea\") as filename:\n",
    "    efflookup = cutil.load(filename)"
   ]
  },
  {
   "cell_type": "code",
   "execution_count": null,
   "id": "63420c58",
   "metadata": {},
   "outputs": [],
   "source": [
    "efflookup"
   ]
  },
  {
   "cell_type": "code",
   "execution_count": null,
   "id": "714009c4",
   "metadata": {},
   "outputs": [],
   "source": [
    "lightJets = jets[jet_selector & (jets.hadronFlavour == 0)]\n",
    "bcJets = jets[jet_selector & (jets.hadronFlavour > 0)]\n",
    "\n",
    "lightEff = efflookup(lightJets.pt, abs(lightJets.eta), lightJets.hadronFlavour)\n",
    "bcEff = efflookup(bcJets.pt, abs(bcJets.eta), bcJets.hadronFlavour)"
   ]
  },
  {
   "cell_type": "code",
   "execution_count": null,
   "id": "995b6091",
   "metadata": {},
   "outputs": [],
   "source": [
    "fig, ax = plt.subplots(figsize=(8,8))\n",
    "\n",
    "ax.hist(ak.num(lightJets), bins=np.linspace(0,8,9), histtype=\"step\", lw=2, label=\"light quark jets\");\n",
    "ax.hist(ak.num(bcJets), bins=np.linspace(0,8,9), histtype=\"step\", lw=2, label=\"bjets\");\n",
    "ax.legend()\n",
    "ax.set_ylabel(\"TTbar events\")\n",
    "ax.set_xlabel(\"number of jets\")"
   ]
  },
  {
   "cell_type": "markdown",
   "id": "12055e4c",
   "metadata": {},
   "source": [
    "# How the lookup was built"
   ]
  },
  {
   "cell_type": "markdown",
   "id": "96e7d5e9",
   "metadata": {},
   "source": [
    "https://btv-wiki.docs.cern.ch/PerformanceCalibration/fixedWPSFRecommendations/"
   ]
  },
  {
   "cell_type": "code",
   "execution_count": null,
   "id": "7b91874d",
   "metadata": {
    "scrolled": false
   },
   "outputs": [],
   "source": [
    "import awkward as ak\n",
    "import hist\n",
    "import numpy as np\n",
    "from coffea import util as cutil\n",
    "from coffea.lookup_tools.dense_lookup import dense_lookup\n",
    "from coffea.nanoevents import NanoAODSchema, NanoEventsFactory\n",
    "\n",
    "import mplhep as hep\n",
    "\n",
    "btagWPs = {\n",
    "    \"deepJet\": {\n",
    "        \"2016preVFP_UL\": {\n",
    "            \"L\": 0.0508,\n",
    "            \"M\": 0.2598,\n",
    "            \"T\": 0.6502,\n",
    "        },\n",
    "        \"2016postVFP_UL\": {\n",
    "            \"L\": 0.0480,\n",
    "            \"M\": 0.2489,\n",
    "            \"T\": 0.6377,\n",
    "        },\n",
    "        \"2017_UL\": {\n",
    "            \"L\": 0.0532,\n",
    "            \"M\": 0.3040,\n",
    "            \"T\": 0.7476,\n",
    "        },\n",
    "        \"2018_UL\": {\n",
    "            \"L\": 0.0490,\n",
    "            \"M\": 0.2783,\n",
    "            \"T\": 0.7100,\n",
    "        },\n",
    "    },\n",
    "}\n",
    "\n",
    "# # single TT files to derive efficiency\n",
    "# tt_files = {\n",
    "#     \"2016preVFP_UL\": \"/store/user/lpcpfnano/cmantill/v2_3/2016APV/TTbar/TTToSemiLeptonic_TuneCP5_13TeV-powheg-pythia8/TTToSemiLeptonic/220808_173625/0000/nano_mc2016pre_3-146.root\",\n",
    "#     \"2016postVFP_UL\": \"/store/user/lpcpfnano/cmantill/v2_3/2016/TTbar/TTToSemiLeptonic_TuneCP5_13TeV-powheg-pythia8/TTToSemiLeptonic/220808_181840/0000/nano_mc2016post_3-30.root\",\n",
    "#     \"2017_UL\": \"/store/user/lpcpfnano/rkansal/v2_3/2017/TTbar/TTToSemiLeptonic_TuneCP5_13TeV-powheg-pythia8/TTToSemiLeptonic/220705_160227/0000/nano_mc2017_227.root\",\n",
    "#     \"2018_UL\": \"/store/user/lpcpfnano/cmantill/v2_3/2018/TTbar/TTToSemiLeptonic_TuneCP5_13TeV-powheg-pythia8/TTToSemiLeptonic/220808_151244/0000/nano_mc2018_2-15.root\",\n",
    "# }\n",
    "\n",
    "##### I just copied them under btag/\n",
    "tt_files = {\n",
    "    \"2016preVFP_UL\": \"btag/TTbar_2016preVFP_UL.root\",\n",
    "    \"2016postVFP_UL\": \"btag/TTbar_2016postVFP_UL.root\",\n",
    "    \"2017_UL\": \"btag/TTbar_2017_UL.root\",\n",
    "    \"2018_UL\": \"btag/TTbar_2018_UL.root\",\n",
    "}\n",
    "\n",
    "year_label = {\n",
    "    \"2016preVFP_UL\": \"2016APV\",\n",
    "    \"2016postVFP_UL\": \"2016\",\n",
    "    \"2017_UL\": \"2017\",\n",
    "    \"2018_UL\": \"2018\",\n",
    "}\n",
    "\n",
    "taggerBranch = {\"deepJet\": \"btagDeepFlavB\"}\n",
    "\n",
    "for year, fname in tt_files.items():\n",
    "    events = NanoEventsFactory.from_root(\n",
    "#         f\"root://cmsxrootd-site.fnal.gov/{fname}\",        \n",
    "        fname,\n",
    "        entry_stop=100_000,\n",
    "        schemaclass=NanoAODSchema,\n",
    "    ).events()\n",
    "\n",
    "    # b-tagging only applied for jets with |eta| < 2.5\n",
    "    phasespace_cuts = (events.Jet.pt > 30) & (abs(events.Jet.eta) < 2.5)\n",
    "    jets = ak.flatten(events.Jet[phasespace_cuts])\n",
    "\n",
    "    for tag in [\"deepJet\"]:\n",
    "        for wp in [\"T\"]:\n",
    "            efficiencyinfo = (\n",
    "                hist.Hist.new.Reg(20, 40, 300, name=\"pt\")\n",
    "                .Reg(4, 0, 2.5, name=\"abseta\")\n",
    "                .IntCat([0, 4, 5], name=\"flavor\")\n",
    "                .Bool(name=\"passWP\")\n",
    "                .Double()\n",
    "                .fill(\n",
    "                    pt=jets.pt,\n",
    "                    abseta=abs(jets.eta),\n",
    "                    flavor=jets.hadronFlavour,\n",
    "                    passWP=jets[taggerBranch[tag]] > btagWPs[tag][year][wp],\n",
    "                )\n",
    "            )\n",
    "            eff = efficiencyinfo[{\"passWP\": True}] / efficiencyinfo[{\"passWP\": sum}]\n",
    "            \n",
    "            # make 2dplot of the eff\n",
    "            flavors = list(eff.axes[\"flavor\"])\n",
    "            for flavor in range(len(list(eff.axes[\"flavor\"]))):\n",
    "\n",
    "                fig, ax = plt.subplots(figsize=(15, 15))\n",
    "\n",
    "                h = eff[{\"flavor\": flavor}]\n",
    "                hep.hist2dplot(h, ax=ax, flow=None)\n",
    "\n",
    "                for i in range(h.axes[0].size):\n",
    "                    for j in range(h.axes[1].size):\n",
    "                        bin_value = h.values()[i, j]\n",
    "                        bin_center_x = h.axes[0].centers[i]\n",
    "                        bin_center_y = h.axes[1].centers[j]\n",
    "                        ax.text(bin_center_x, bin_center_y, f'{bin_value:.2f}', \n",
    "                                color='white', ha='center', va='center', fontsize=10)\n",
    "            \n",
    "                ax.set_title(f'B-tagging efficiency map {year_label[year]} (flavor={flavors[flavor]})', pad=24)\n",
    "                ax.set_xlabel(r\"$p_T$\")\n",
    "                ax.set_ylabel(r\"$\\eta$\")\n",
    "\n",
    "                plt.tight_layout()    \n",
    "                plt.savefig(f\"/Users/fmokhtar/Desktop/AN_2024/btag/{tag}_{wp}_{year_label[year]}_{flavors[flavor]}.pdf\")            "
   ]
  },
  {
   "cell_type": "code",
   "execution_count": null,
   "id": "889bcbde",
   "metadata": {},
   "outputs": [],
   "source": [
    "np.mean(eff[{\"flavor\": 2}].values())"
   ]
  },
  {
   "cell_type": "code",
   "execution_count": null,
   "id": "b30ab9fc",
   "metadata": {},
   "outputs": [],
   "source": [
    "np.mean(eff[{\"flavor\": 1}].values())"
   ]
  }
 ],
 "metadata": {
  "kernelspec": {
   "display_name": "fastjet-env",
   "language": "python",
   "name": "fastjet-env"
  },
  "language_info": {
   "codemirror_mode": {
    "name": "ipython",
    "version": 3
   },
   "file_extension": ".py",
   "mimetype": "text/x-python",
   "name": "python",
   "nbconvert_exporter": "python",
   "pygments_lexer": "ipython3",
   "version": "3.9.18"
  }
 },
 "nbformat": 4,
 "nbformat_minor": 5
}
